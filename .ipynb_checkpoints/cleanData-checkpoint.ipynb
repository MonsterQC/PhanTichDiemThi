{
 "cells": [
  {
   "cell_type": "markdown",
   "metadata": {},
   "source": [
    "## Read data and process for a row"
   ]
  },
  {
   "cell_type": "code",
   "execution_count": 1,
   "metadata": {},
   "outputs": [
    {
     "name": "stdout",
     "output_type": "stream",
     "text": [
      "[\"b'<!DOCTYPE html>\", '<html>', '<head>', '    <meta charset=\"utf-8\" />', '    <meta name=\"viewport\" content=\"width=device-width, initial-scale=1.0\">', '    <title>Show - S\\\\xe1\\\\xbb\\\\x9f Gi\\\\xc3\\\\xa1o d\\\\xe1\\\\xbb\\\\xa5c v\\\\xc3\\\\xa0 \\\\xc4\\\\x90\\\\xc3\\\\xa0o t\\\\xe1\\\\xba\\\\xa1o TP HCM</title>', '    <link href=\"/Content/css?v=Xso9L40tE7BMv39QjIwZA-y7XWNRBA0m2c4mZornwBo1\" rel=\"stylesheet\"/>', '', '    <script src=\"/bundles/modernizr?v=wBEWDufH_8Md-Pbioxomt90vm6tJN2Pyy9u9zHtWsPo1\"></script>', '', '    <script src=\"/bundles/jquery?v=FVs3ACwOLIVInrAl5sdzR2jrCDmVOWFbZMY6g6Q0ulE1\"></script>', '', '    <script src=\"/bundles/bootstrap?v=2Fz3B0iizV2NnnamQFrx-NbYJNTFeBJ2GM05SilbtQU1\"></script>', '', '    <script src=\"/bundles/jqueryui\"></script>', '', '    <link href=\"/bundles/fonts\" rel=\"stylesheet\"/>', '', '   ', '</head>', '<body>', '    <nav class=\"navbar navbar-inverse\">', '        <div class=\"container-fluid\">', '            <div class=\"navbar-header\">', '                <img style=\"float:left\" src=\"/Images/Logo_so.png\" width=\"85\" />', '<div>', ' <label style=\"margin-top: 12px; color: #eeeeee ; font-size: x-large\">TRA C\\\\xe1\\\\xbb\\\\xa8U \\\\xc4\\\\x90I\\\\xe1\\\\xbb\\\\x82M</label>   ', '<label style=\"color: #eeeeee ; font-size: medium \">K\\\\xe1\\\\xbb\\\\xb2 THI T\\\\xe1\\\\xbb\\\\x90T NGHI\\\\xe1\\\\xbb\\\\x86P TRUNG H\\\\xe1\\\\xbb\\\\x8cC PH\\\\xe1\\\\xbb\\\\x94 TH\\\\xc3\\\\x94NG 2020</label>', '               ', '               ', '</div>', '               ', '            </div>', '           ', '        </div>', '    </nav>', '    ', '   ', '    <div class=\"container body-content\" style=\"margin-top:50px\">', '        ', '', '', '', '', '    <table style=\"margin-top:50px; border: 1px solid; width:100%\">', '        <tr>', '            <td style=\"border: 1px solid ; font-weight: bold \">', '                H\\\\xe1\\\\xbb\\\\x8d v\\\\xc3\\\\xa0 T\\\\xc3\\\\xaan', '            </td>', '            <td style=\"border: 1px solid ; font-weight: bold\">', '                Ng\\\\xc3\\\\xa0y sinh', '            </td>', '            <td style=\"border: 1px solid ; font-weight: bold\">', '                \\\\xc4\\\\x90i\\\\xe1\\\\xbb\\\\x83m thi', '            </td>', '           ', '', '        </tr>', '', '        <tr>', '            <td style=\"border: 1px solid\">', '                PH\\\\xe1\\\\xba\\\\xa0M HO&#192;NG H\\\\xc6\\\\xaf\\\\xc6\\\\xa0NG &#193;I', '            </td>', '            <td style=\"border: 1px solid\">', '                04/11/2002', '            </td>', '            <td style=\"border: 1px solid\">', '                To&#225;n:   6.60   Ng\\\\xe1\\\\xbb\\\\xaf v\\\\xc4\\\\x83n:   6.25   L\\\\xe1\\\\xbb\\\\x8bch s\\\\xe1\\\\xbb\\\\xad:   5.75   \\\\xc4\\\\x90\\\\xe1\\\\xbb\\\\x8ba l&#237;:   7.00   GDCD:   7.25   KHXH: 6.67   Ti\\\\xe1\\\\xba\\\\xbfng Anh:   5.20   ', '            </td>', '', '        </tr>', '', '    </table>', '', '', '', '<br />', '', '', '', '        <br />', '        ', '  ', '</div>', '  ', '   ', '    ', '</body>', '</html>', \"'\\n\"]\n"
     ]
    }
   ],
   "source": [
    "filePath = r\"D:/code/python/data/project-data-science/\"\n",
    "\n",
    "with open(filePath + \"raw_data.txt\", \"r\") as file:\n",
    "    data = file.readline()\n",
    "\n",
    "data = data.split(\"\\\\n\")\n",
    "for i in range(len(data)):\n",
    "    data[i] = data[i].replace(\"\\\\r\", \"\")\n",
    "    data[i] = data[i].replace(\"\\\\t\", \"\")\n",
    "print(data)"
   ]
  },
  {
   "cell_type": "markdown",
   "metadata": {},
   "source": [
    "### Remove tag"
   ]
  },
  {
   "cell_type": "code",
   "execution_count": 2,
   "metadata": {},
   "outputs": [
    {
     "data": {
      "text/plain": [
       "[\"b'\",\n",
       " 'Show - S\\\\xe1\\\\xbb\\\\x9f Gi\\\\xc3\\\\xa1o d\\\\xe1\\\\xbb\\\\xa5c v\\\\xc3\\\\xa0 \\\\xc4\\\\x90\\\\xc3\\\\xa0o t\\\\xe1\\\\xba\\\\xa1o TP HCM',\n",
       " 'TRA C\\\\xe1\\\\xbb\\\\xa8U \\\\xc4\\\\x90I\\\\xe1\\\\xbb\\\\x82M',\n",
       " 'K\\\\xe1\\\\xbb\\\\xb2 THI T\\\\xe1\\\\xbb\\\\x90T NGHI\\\\xe1\\\\xbb\\\\x86P TRUNG H\\\\xe1\\\\xbb\\\\x8cC PH\\\\xe1\\\\xbb\\\\x94 TH\\\\xc3\\\\x94NG 2020',\n",
       " 'H\\\\xe1\\\\xbb\\\\x8d v\\\\xc3\\\\xa0 T\\\\xc3\\\\xaan',\n",
       " 'Ng\\\\xc3\\\\xa0y sinh',\n",
       " '\\\\xc4\\\\x90i\\\\xe1\\\\xbb\\\\x83m thi',\n",
       " 'PH\\\\xe1\\\\xba\\\\xa0M HO&#192;NG H\\\\xc6\\\\xaf\\\\xc6\\\\xa0NG &#193;I',\n",
       " '04/11/2002',\n",
       " 'To&#225;n:   6.60   Ng\\\\xe1\\\\xbb\\\\xaf v\\\\xc4\\\\x83n:   6.25   L\\\\xe1\\\\xbb\\\\x8bch s\\\\xe1\\\\xbb\\\\xad:   5.75   \\\\xc4\\\\x90\\\\xe1\\\\xbb\\\\x8ba l&#237;:   7.00   GDCD:   7.25   KHXH: 6.67   Ti\\\\xe1\\\\xba\\\\xbfng Anh:   5.20',\n",
       " \"'\"]"
      ]
     },
     "execution_count": 2,
     "metadata": {},
     "output_type": "execute_result"
    }
   ],
   "source": [
    "unempty_lines = []\n",
    "\n",
    "for i in range(len(data)):\n",
    "    tags = []\n",
    "    for j in range(len(data[i])):\n",
    "        if data[i][j] == \"<\":\n",
    "            begin = j\n",
    "        if data[i][j] == \">\":\n",
    "            end = j\n",
    "            tags.append(data[i][begin:end+1])\n",
    "            \n",
    "    for tag in tags:\n",
    "        data[i] = data[i].replace(tag, \"\")\n",
    "        \n",
    "    data[i] = data[i].strip()\n",
    "    \n",
    "    if data[i] != \"\":\n",
    "        unempty_lines.append(data[i])\n",
    "        \n",
    "data = unempty_lines\n",
    "data"
   ]
  },
  {
   "cell_type": "markdown",
   "metadata": {},
   "source": [
    "### Get the neccessary information "
   ]
  },
  {
   "cell_type": "code",
   "execution_count": 3,
   "metadata": {},
   "outputs": [
    {
     "data": {
      "text/plain": [
       "['PH\\\\xe1\\\\xba\\\\xa0M HO&#192;NG H\\\\xc6\\\\xaf\\\\xc6\\\\xa0NG &#193;I',\n",
       " '04/11/2002',\n",
       " 'To&#225;n:   6.60   Ng\\\\xe1\\\\xbb\\\\xaf v\\\\xc4\\\\x83n:   6.25   L\\\\xe1\\\\xbb\\\\x8bch s\\\\xe1\\\\xbb\\\\xad:   5.75   \\\\xc4\\\\x90\\\\xe1\\\\xbb\\\\x8ba l&#237;:   7.00   GDCD:   7.25   KHXH: 6.67   Ti\\\\xe1\\\\xba\\\\xbfng Anh:   5.20']"
      ]
     },
     "execution_count": 3,
     "metadata": {},
     "output_type": "execute_result"
    }
   ],
   "source": [
    "name = data[7]\n",
    "dob = data[8]\n",
    "scores = data[9]\n",
    "\n",
    "data = [name, dob, scores]\n",
    "data"
   ]
  },
  {
   "cell_type": "markdown",
   "metadata": {},
   "source": [
    "### Handling special characters"
   ]
  },
  {
   "cell_type": "code",
   "execution_count": 4,
   "metadata": {},
   "outputs": [
    {
     "name": "stdout",
     "output_type": "stream",
     "text": [
      "Phạm Hoàng Hương Ái\n",
      "toán:   6.60   ngữ văn:   6.25   lịch sử:   5.75   địa lí:   7.00   gdcd:   7.25   khxh: 6.67   tiếng anh:   5.20\n"
     ]
    }
   ],
   "source": [
    "with open(filePath + \"unicode.txt\", \"r\", encoding=\"utf8\") as file:\n",
    "    unicode_data = file.read().split(\"\\n\")\n",
    "    \n",
    "chars = []\n",
    "codes = []\n",
    "\n",
    "for unicode in unicode_data:\n",
    "    x = unicode.split(\" \")\n",
    "    chars.append(x[0])\n",
    "    codes.append(x[1])\n",
    "    \n",
    "for i in range(len(chars)):\n",
    "    name = name.replace(codes[i], chars[i])\n",
    "    scores = scores.replace(codes[i], chars[i])\n",
    "    \n",
    "for i in range(len(name)):\n",
    "    if name[i:i+2] == \"&#\":\n",
    "        name = name[:i] + chr(int(name[i+2:i+5])) + name[i+6:]\n",
    "for i in range(len(scores)):\n",
    "    if scores[i:i+2] == \"&#\":\n",
    "        scores = scores[:i] + chr(int(scores[i+2:i+5])) + scores[i+6:]\n",
    "        \n",
    "name = name.title()\n",
    "scores = scores.lower()\n",
    "\n",
    "print(name)\n",
    "print(scores)"
   ]
  },
  {
   "cell_type": "markdown",
   "metadata": {},
   "source": [
    "### Processing date of birth, test scores"
   ]
  },
  {
   "cell_type": "code",
   "execution_count": 5,
   "metadata": {},
   "outputs": [
    {
     "name": "stdout",
     "output_type": "stream",
     "text": [
      "['Phạm Hoàng Hương Ái', '04', '11', '2002']\n",
      "['toán', '6.60', 'ngữ văn', '6.25', 'lịch sử', '5.75', 'địa lí', '7.00', 'gdcd', '7.25', 'khxh', '6.67', 'tiếng anh', '5.20']\n"
     ]
    }
   ],
   "source": [
    "dob_list = dob.split(\"/\")\n",
    "dd = dob_list[0]\n",
    "mm = dob_list[1]\n",
    "yy = dob_list[2]\n",
    "\n",
    "scores = scores.replace(\":\",\"\")\n",
    "scores = scores.replace(\"khtn \", \"khtn   \")\n",
    "scores = scores.replace(\"khxh \", \"khxh   \")\n",
    "score_list = scores.split(\"   \")\n",
    "\n",
    "data = [name, dd, mm, yy]\n",
    "print(data)\n",
    "print(score_list)"
   ]
  },
  {
   "cell_type": "markdown",
   "metadata": {},
   "source": [
    "#### Add scores to the data in the following order: toán, ngữ văn, lịch sử, địa lí, gdcd, sinh học, vật lí, hóa học, tiếng anh, khtn, khxh "
   ]
  },
  {
   "cell_type": "code",
   "execution_count": 13,
   "metadata": {},
   "outputs": [
    {
     "name": "stdout",
     "output_type": "stream",
     "text": [
      "['Phạm Hoàng Hương Ái', '04', '11', '2002', '6.60', '6.25', '5.75', '7.00', '7.25', -1, -1, -1, '5.20', -1, '6.67']\n"
     ]
    }
   ],
   "source": [
    "for subject in [\"toán\", \"ngữ văn\", \"lịch sử\", \"địa lí\", \"gdcd\", \"sinh học\", \"vật lí\", \"hóa học\", \"tiếng anh\", \"khtn\", \"khxh\"]:\n",
    "    if subject in score_list:\n",
    "        index = score_list.index(subject) + 1\n",
    "        data.append(score_list[index])\n",
    "    else:\n",
    "        data.append(-1)\n",
    "print(data)"
   ]
  },
  {
   "cell_type": "markdown",
   "metadata": {},
   "source": [
    "## Read data and process for 74k rows"
   ]
  },
  {
   "cell_type": "code",
   "execution_count": 15,
   "metadata": {},
   "outputs": [
    {
     "name": "stdout",
     "output_type": "stream",
     "text": [
      "b'<!DOCTYPE html>\\n<html>\\n<head>\\n    <meta charset=\"utf-8\" />\\n    <meta name=\"viewport\" content=\"width=device-width, initial-scale=1.0\">\\n    <title>Show - S\\xe1\\xbb\\x9f Gi\\xc3\\xa1o d\\xe1\\xbb\\xa5c v\\xc3\\xa0 \\xc4\\x90\\xc3\\xa0o t\\xe1\\xba\\xa1o TP HCM</title>\\n    <link href=\"/Content/css?v=Xso9L40tE7BMv39QjIwZA-y7XWNRBA0m2c4mZornwBo1\" rel=\"stylesheet\"/>\\r\\n\\n    <script src=\"/bundles/modernizr?v=wBEWDufH_8Md-Pbioxomt90vm6tJN2Pyy9u9zHtWsPo1\"></script>\\r\\n\\n    <script src=\"/bundles/jquery?v=FVs3ACwOLIVInrAl5sdzR2jrCDmVOWFbZMY6g6Q0ulE1\"></script>\\r\\n\\n    <script src=\"/bundles/bootstrap?v=2Fz3B0iizV2NnnamQFrx-NbYJNTFeBJ2GM05SilbtQU1\"></script>\\r\\n\\n    <script src=\"/bundles/jqueryui\"></script>\\r\\n\\n    <link href=\"/bundles/fonts\" rel=\"stylesheet\"/>\\r\\n\\n   \\r\\n</head>\\r\\n<body>\\r\\n    <nav class=\"navbar navbar-inverse\">\\r\\n        <div class=\"container-fluid\">\\r\\n            <div class=\"navbar-header\">\\r\\n                <img style=\"float:left\" src=\"/Images/Logo_so.png\" width=\"85\" />\\r\\n<div>\\r\\n <label style=\"margin-top: 12px; color: #eeeeee ; font-size: x-large\">TRA C\\xe1\\xbb\\xa8U \\xc4\\x90I\\xe1\\xbb\\x82M</label>   \\r\\n\\t\\t<label style=\"color: #eeeeee ; font-size: medium \">K\\xe1\\xbb\\xb2 THI T\\xe1\\xbb\\x90T NGHI\\xe1\\xbb\\x86P TRUNG H\\xe1\\xbb\\x8cC PH\\xe1\\xbb\\x94 TH\\xc3\\x94NG 2020</label>\\r\\n               \\r\\n               \\r\\n</div>\\r\\n               \\r\\n            </div>\\r\\n           \\r\\n        </div>\\r\\n    </nav>\\r\\n    \\r\\n   \\n    <div class=\"container body-content\" style=\"margin-top:50px\">\\n        \\r\\n\\r\\n\\r\\n\\r\\n\\r\\n    <table style=\"margin-top:50px; border: 1px solid; width:100%\">\\r\\n        <tr>\\r\\n            <td style=\"border: 1px solid ; font-weight: bold \">\\r\\n                H\\xe1\\xbb\\x8d v\\xc3\\xa0 T\\xc3\\xaan\\r\\n            </td>\\r\\n            <td style=\"border: 1px solid ; font-weight: bold\">\\r\\n                Ng\\xc3\\xa0y sinh\\r\\n            </td>\\r\\n            <td style=\"border: 1px solid ; font-weight: bold\">\\r\\n                \\xc4\\x90i\\xe1\\xbb\\x83m thi\\r\\n            </td>\\r\\n           \\r\\n\\r\\n        </tr>\\r\\n\\r\\n        <tr>\\r\\n            <td style=\"border: 1px solid\">\\r\\n                PH\\xe1\\xba\\xa0M HO&#192;NG H\\xc6\\xaf\\xc6\\xa0NG &#193;I\\r\\n            </td>\\r\\n            <td style=\"border: 1px solid\">\\r\\n                04/11/2002\\r\\n            </td>\\r\\n            <td style=\"border: 1px solid\">\\r\\n                To&#225;n:   6.60   Ng\\xe1\\xbb\\xaf v\\xc4\\x83n:   6.25   L\\xe1\\xbb\\x8bch s\\xe1\\xbb\\xad:   5.75   \\xc4\\x90\\xe1\\xbb\\x8ba l&#237;:   7.00   GDCD:   7.25   KHXH: 6.67   Ti\\xe1\\xba\\xbfng Anh:   5.20   \\r\\n            </td>\\r\\n\\r\\n        </tr>\\r\\n\\r\\n    </table>\\r\\n\\r\\n\\r\\n\\r\\n<br />\\r\\n\\r\\n\\r\\n\\n        <br />\\n        \\r\\n  \\r\\n</div>\\n  \\n   \\n    \\n</body>\\n</html>\\n'\n"
     ]
    }
   ],
   "source": [
    "import csv\n",
    "\n",
    "filePath = r\"D:/code/python/data/project-data-science/\"\n",
    "\n",
    "with open(filePath + \"raw_data.txt\", \"r\") as file:\n",
    "    datas = file.read().split(\"\\n\")\n",
    "    \n",
    "for data in datas:\n",
    "    data = data.split(\"\\\\n\")\n",
    "    \n",
    "    for i in range(len(data)):\n",
    "        data[i] = data[i].replace(\"\\\\r\", \"\")\n",
    "        data[i] = data[i].replace(\"\\\\t\", \"\")\n",
    "        \n",
    "# Remove tag  _____________________________________________________________  \n",
    "    unempty_lines = []\n",
    "    for i in range(len(data)):\n",
    "        tags = []\n",
    "        for j in range(len(data[i])):\n",
    "            if data[i][j] == \"<\":\n",
    "                begin = j\n",
    "            if data[i][j] == \">\":\n",
    "                end = j\n",
    "                tags.append(data[i][begin:end+1])\n",
    "        for tag in tags:\n",
    "            data[i] = data[i].replace(tag, \"\")\n",
    "            \n",
    "        data[i] = data[i].strip()\n",
    "        if data[i] != \"\":\n",
    "            unempty_lines.append(data[i])\n",
    "            \n",
    "    data = unempty_lines\n",
    "    \n",
    "# Get the neccessary information ___________________________________________\n",
    "    name = data[7]\n",
    "    dob = data[8]\n",
    "    scores = data[9]\n",
    "    data = [name, dob, scores]\n",
    "    \n",
    "# Handling special characters ________________________________________________\n",
    "    with open(filePath + \"unicode.txt\", \"r\", encoding=\"utf8\") as file:\n",
    "        unicode_data = file.read().split(\"\\n\")\n",
    "    \n",
    "    chars = []\n",
    "    codes = []\n",
    "    for unicode in unicode_data:\n",
    "        x = unicode.split(\" \")\n",
    "        chars.append(x[0])\n",
    "        codes.append(x[1])\n",
    "    for i in range(len(chars)):\n",
    "        name = name.replace(codes[i], chars[i])\n",
    "        scores = scores.replace(codes[i], chars[i])\n",
    "    for i in range(len(name)):\n",
    "        if name[i:i+2] == \"&#\":\n",
    "            name = name[:i] + chr(int(name[i+2:i+5])) + name[i+6:]\n",
    "    for i in range(len(scores)):\n",
    "        if scores[i:i+2] == \"&#\":\n",
    "            scores = scores[:i] + chr(int(scores[i+2:i+5])) + scores[i+6:]\n",
    "\n",
    "    name = name.title()\n",
    "    scores = scores.lower()\n",
    "\n",
    "# Processing date of birth, test scores ____________________________________________________\n",
    "    dob_list = dob.split(\"/\")\n",
    "    dd = dob_list[0]\n",
    "    mm = dob_list[1]\n",
    "    yy = dob_list[2]\n",
    "    scores = scores.replace(\":\",\"\")\n",
    "    scores = scores.replace(\"khtn \", \"khtn   \")\n",
    "    scores = scores.replace(\"khxh \", \"khxh   \")\n",
    "    score_list = scores.split(\"   \")\n",
    "\n",
    "    data = [name, dd, mm, yy]\n",
    "    \n",
    "# Add scores to the data in the following order: toán, ngữ văn, lịch sử, địa lí, gdcd, sinh học, vật lí, hóa học, tiếng anh, khtn, khxh\n",
    "    for subject in [\"toán\", \"ngữ văn\", \"lịch sử\", \"địa lí\", \"gdcd\", \"sinh học\", \"vật lí\", \"hóa học\", \"tiếng anh\", \"khtn\", \"khxh\"]:\n",
    "        if subject in score_list:\n",
    "            index = score_list.index(subject) + 1\n",
    "            data.append(score_list[index])\n",
    "        else:\n",
    "            data.append(-1)"
   ]
  }
 ],
 "metadata": {
  "kernelspec": {
   "display_name": "Python 3",
   "language": "python",
   "name": "python3"
  },
  "language_info": {
   "codemirror_mode": {
    "name": "ipython",
    "version": 3
   },
   "file_extension": ".py",
   "mimetype": "text/x-python",
   "name": "python",
   "nbconvert_exporter": "python",
   "pygments_lexer": "ipython3",
   "version": "3.8.5"
  }
 },
 "nbformat": 4,
 "nbformat_minor": 4
}
